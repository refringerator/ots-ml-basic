{
 "cells": [
  {
   "cell_type": "markdown",
   "id": "86ad297b",
   "metadata": {},
   "source": [
    "Пользователь вводит пятизначное число. \n",
    "Программа должна зеркально отразить центральные три цифры. \n",
    "Первая и последняя остаются на местах."
   ]
  },
  {
   "cell_type": "code",
   "execution_count": 1,
   "id": "8f05d8f7",
   "metadata": {},
   "outputs": [],
   "source": [
    "def rev(a: str) -> str:\n",
    "    res = list(a[::-1])\n",
    "    res[0] = a[0]\n",
    "    res[-1] = a[-1]\n",
    "    result = ''.join(res)\n",
    "    print(f\"{a} -> {result}\")\n",
    "    return result"
   ]
  },
  {
   "cell_type": "code",
   "execution_count": 8,
   "id": "afa20911",
   "metadata": {},
   "outputs": [
    {
     "name": "stdout",
     "output_type": "stream",
     "text": [
      "23456 -> 25436\n",
      "30789 -> 38709\n",
      "1 -> 1\n"
     ]
    },
    {
     "data": {
      "text/plain": [
       "'1'"
      ]
     },
     "execution_count": 8,
     "metadata": {},
     "output_type": "execute_result"
    }
   ],
   "source": [
    "rev('23456')\n",
    "rev('30789')\n",
    "rev(input(\"Введите число: \"))"
   ]
  }
 ],
 "metadata": {
  "kernelspec": {
   "display_name": ".venv",
   "language": "python",
   "name": "python3"
  },
  "language_info": {
   "codemirror_mode": {
    "name": "ipython",
    "version": 3
   },
   "file_extension": ".py",
   "mimetype": "text/x-python",
   "name": "python",
   "nbconvert_exporter": "python",
   "pygments_lexer": "ipython3",
   "version": "3.12.8"
  }
 },
 "nbformat": 4,
 "nbformat_minor": 5
}
