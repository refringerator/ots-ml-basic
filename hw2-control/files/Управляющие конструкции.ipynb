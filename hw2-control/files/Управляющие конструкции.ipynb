{
 "cells": [
  {
   "cell_type": "markdown",
   "id": "343b175e",
   "metadata": {},
   "source": [
    "Пользователь вводит целое число, программа складывает все цифры числа, с полученным числом — то же самое, и так до тех пор, пока не получится однозначное число."
   ]
  },
  {
   "cell_type": "code",
   "execution_count": 1,
   "id": "e1007ee6",
   "metadata": {},
   "outputs": [],
   "source": [
    "def summa(a: int) -> int:\n",
    "    string = str(a)\n",
    "    while len(string) > 1:\n",
    "        string = str(sum(int(i) for i in string))\n",
    "\n",
    "    print(f\"{a} -> {string}\")\n",
    "\n",
    "    return int(string)   "
   ]
  },
  {
   "cell_type": "code",
   "execution_count": 3,
   "id": "921f4431",
   "metadata": {},
   "outputs": [
    {
     "name": "stdout",
     "output_type": "stream",
     "text": [
      "545 -> 5\n",
      "12345 -> 6\n"
     ]
    },
    {
     "data": {
      "text/plain": [
       "6"
      ]
     },
     "execution_count": 3,
     "metadata": {},
     "output_type": "execute_result"
    }
   ],
   "source": [
    "summa(545)\n",
    "summa(12345)"
   ]
  }
 ],
 "metadata": {
  "kernelspec": {
   "display_name": ".venv",
   "language": "python",
   "name": "python3"
  },
  "language_info": {
   "codemirror_mode": {
    "name": "ipython",
    "version": 3
   },
   "file_extension": ".py",
   "mimetype": "text/x-python",
   "name": "python",
   "nbconvert_exporter": "python",
   "pygments_lexer": "ipython3",
   "version": "3.12.8"
  }
 },
 "nbformat": 4,
 "nbformat_minor": 5
}
